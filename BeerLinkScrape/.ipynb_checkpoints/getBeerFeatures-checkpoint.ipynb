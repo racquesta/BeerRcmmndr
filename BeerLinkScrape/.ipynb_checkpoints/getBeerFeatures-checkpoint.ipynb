{
 "cells": [
  {
   "cell_type": "code",
   "execution_count": 35,
   "metadata": {
    "collapsed": true
   },
   "outputs": [],
   "source": [
    "import pandas as pd\n",
    "from bs4 import BeautifulSoup\n",
    "import requests\n",
    "import re"
   ]
  },
  {
   "cell_type": "code",
   "execution_count": 13,
   "metadata": {
    "collapsed": true
   },
   "outputs": [],
   "source": [
    "# read in beerstyles csv\n",
    "df = pd.read_csv('Top50BeersEachStyle.csv', encoding = \"ISO-8859-1\")"
   ]
  },
  {
   "cell_type": "code",
   "execution_count": 14,
   "metadata": {},
   "outputs": [
    {
     "data": {
      "text/html": [
       "<div>\n",
       "<style>\n",
       "    .dataframe thead tr:only-child th {\n",
       "        text-align: right;\n",
       "    }\n",
       "\n",
       "    .dataframe thead th {\n",
       "        text-align: left;\n",
       "    }\n",
       "\n",
       "    .dataframe tbody tr th {\n",
       "        vertical-align: top;\n",
       "    }\n",
       "</style>\n",
       "<table border=\"1\" class=\"dataframe\">\n",
       "  <thead>\n",
       "    <tr style=\"text-align: right;\">\n",
       "      <th></th>\n",
       "      <th>names</th>\n",
       "      <th>style</th>\n",
       "      <th>url</th>\n",
       "    </tr>\n",
       "  </thead>\n",
       "  <tbody>\n",
       "    <tr>\n",
       "      <th>0</th>\n",
       "      <td>Budweiser</td>\n",
       "      <td>American Adjunct Lager</td>\n",
       "      <td>https://www.beeradvocate.com/beer/profile/29/65/</td>\n",
       "    </tr>\n",
       "    <tr>\n",
       "      <th>1</th>\n",
       "      <td>Pabst Blue Ribbon (PBR)</td>\n",
       "      <td>American Adjunct Lager</td>\n",
       "      <td>https://www.beeradvocate.com/beer/profile/447/...</td>\n",
       "    </tr>\n",
       "    <tr>\n",
       "      <th>2</th>\n",
       "      <td>Corona Extra</td>\n",
       "      <td>American Adjunct Lager</td>\n",
       "      <td>https://www.beeradvocate.com/beer/profile/75/232/</td>\n",
       "    </tr>\n",
       "    <tr>\n",
       "      <th>3</th>\n",
       "      <td>Miller High Life</td>\n",
       "      <td>American Adjunct Lager</td>\n",
       "      <td>https://www.beeradvocate.com/beer/profile/105/...</td>\n",
       "    </tr>\n",
       "    <tr>\n",
       "      <th>4</th>\n",
       "      <td>Red Stripe Jamaican Lager</td>\n",
       "      <td>American Adjunct Lager</td>\n",
       "      <td>https://www.beeradvocate.com/beer/profile/221/...</td>\n",
       "    </tr>\n",
       "  </tbody>\n",
       "</table>\n",
       "</div>"
      ],
      "text/plain": [
       "                       names                   style  \\\n",
       "0                  Budweiser  American Adjunct Lager   \n",
       "1    Pabst Blue Ribbon (PBR)  American Adjunct Lager   \n",
       "2               Corona Extra  American Adjunct Lager   \n",
       "3           Miller High Life  American Adjunct Lager   \n",
       "4  Red Stripe Jamaican Lager  American Adjunct Lager   \n",
       "\n",
       "                                                 url  \n",
       "0   https://www.beeradvocate.com/beer/profile/29/65/  \n",
       "1  https://www.beeradvocate.com/beer/profile/447/...  \n",
       "2  https://www.beeradvocate.com/beer/profile/75/232/  \n",
       "3  https://www.beeradvocate.com/beer/profile/105/...  \n",
       "4  https://www.beeradvocate.com/beer/profile/221/...  "
      ]
     },
     "execution_count": 14,
     "metadata": {},
     "output_type": "execute_result"
    }
   ],
   "source": [
    "df.head()"
   ]
  },
  {
   "cell_type": "code",
   "execution_count": 97,
   "metadata": {},
   "outputs": [
    {
     "name": "stdout",
     "output_type": "stream",
     "text": [
      "1\n"
     ]
    }
   ],
   "source": [
    "Score = [] #<span class=\"ba-ravg\">2.36</span>\n",
    "ScoreClass = []\n",
    "RatingCount = []\n",
    "Ranking = []\n",
    "ReviewCount = []\n",
    "pDev = [] #percent deviation\n",
    "BrosScore = []\n",
    "Brewer = []\n",
    "Location = []\n",
    "ABV = []\n",
    "Availability = []\n",
    "imageLink = []\n",
    "\n",
    "beerCount = 1\n",
    "\n",
    "# for index, row in df.iterrows():\n",
    "#     print(row[2])\n",
    "#     url = row[2]\n",
    "\n",
    "# test 1 url first\n",
    "# url = \"https://www.beeradvocate.com/beer/profile/29/65/\"\n",
    "urls = [\"https://www.beeradvocate.com/beer/profile/28908/40200/\"]\n",
    "\n",
    "# use this to test 2 urls in a row\n",
    "#urls = ['https://www.beeradvocate.com/beer/profile/29/65/','https://www.beeradvocate.com/beer/profile/285/39766/']\n",
    "for url in urls:\n",
    "    # go to each beer style page and get the top 50 beers (by count of ratings)\n",
    "    # response from site\n",
    "    try:\n",
    "        print(beerCount)\n",
    "        response = requests.get(url)\n",
    "\n",
    "        # Create BeautifulSoup object; parse with 'html.parser'\n",
    "        soup = BeautifulSoup(response.text, 'html.parser')\n",
    "\n",
    "        beerScore = soup.find('span', class_='ba-ravg')\n",
    "        if (beerScore.text is not None):\n",
    "            Score.append(beerScore.text)\n",
    "        else:\n",
    "            Score.append('')\n",
    "\n",
    "        scoreclass = soup.find('div', {'id':'score_box'}).find_all('b')\n",
    "        if (scoreclass[1] is not None):\n",
    "            ScoreClass.append(scoreclass[1].text)\n",
    "        else:\n",
    "            ScoreClass.append('')\n",
    "\n",
    "        rating = soup.find('span', class_='ba-ratings')\n",
    "        if (rating.text is not None):\n",
    "            RatingCount.append(rating.text)\n",
    "        else:\n",
    "            RatingCount.append('')\n",
    "\n",
    "        itemstats = soup.find('div', {'id': 'item_stats'}).find_all('dd')\n",
    "        ranking = itemstats[0].text\n",
    "        if (ranking is not None):\n",
    "            Ranking.append(ranking)\n",
    "        else:\n",
    "            Ranking.append('')\n",
    "\n",
    "        reviews = itemstats[1].text\n",
    "        if (reviews is not None):\n",
    "            ReviewCount.append(reviews)\n",
    "        else:\n",
    "            ReviewCount('')\n",
    "\n",
    "        pdev = re.sub('\\s','',itemstats[3].text)\n",
    "        if (pdev is not None):\n",
    "            pDev.append(pdev)\n",
    "        else:\n",
    "            pDev.append('')\n",
    "\n",
    "        brosdiv = soup.find('div', {'id': 'item_stats'}).find_all('dt')\n",
    "        bros = brosdiv[4].text.replace('Bros Score:','')\n",
    "        if (bros is not None):\n",
    "            BrosScore.append(bros)\n",
    "        else:\n",
    "            BrosScore.append('')\n",
    "\n",
    "        # get brewer and brewery from infobox    \n",
    "        infobox = soup.find('div', {'id': 'info_box'}).find_all('a')\n",
    "\n",
    "        brewer = infobox[0].find('b').text\n",
    "\n",
    "        if (brewer is not None):\n",
    "            Brewer.append(brewer)\n",
    "        else:\n",
    "            Brewer.append('')\n",
    "\n",
    "        # what needs to be checked for empty here?\n",
    "        # do i need to empty the list when i'm done using it for next time?\n",
    "        location = []\n",
    "        for ahref in infobox:\n",
    "            if ('/place/' in ahref['href']):\n",
    "                location.append(ahref.text)\n",
    "\n",
    "                \n",
    "        if (len(location) > 1):\n",
    "            place = ', '.join(location)\n",
    "        elif (len(location) == 1):\n",
    "            place = location[0]\n",
    "        else:\n",
    "            place = ''\n",
    "#         print(place)\n",
    "        Location.append(place)\n",
    "\n",
    "        # get ABV and availability from infoboxHeadings\n",
    "        infoboxHeadings = soup.find('div', {'id': 'info_box'}).find_all('b')\n",
    "        abv = re.sub('\\s','',infoboxHeadings[5].next_sibling)\n",
    "        if (abv is not None):\n",
    "            ABV.append(abv)\n",
    "        else:\n",
    "            ABV.append('')\n",
    "\n",
    "        availability = re.sub('\\s','',infoboxHeadings[6].next_sibling)\n",
    "        if (availability is not None):\n",
    "            Availability.append(availability)\n",
    "        else:\n",
    "            Availability.append('')\n",
    "\n",
    "        beerimages = soup.find('div', {'id': 'main_pic_norm'}).find_all('img')\n",
    "        beerlink = beerimages[0]['src']\n",
    "        if (beerlink is not None):\n",
    "            imageLink.append(beerlink)\n",
    "        else:\n",
    "            imageLink.append('')\n",
    "\n",
    "        beerCount += 1\n",
    "    except:\n",
    "        print('error!', beerCount, url)\n",
    "        beerCount += 1 #move to the next one"
   ]
  },
  {
   "cell_type": "code",
   "execution_count": 86,
   "metadata": {},
   "outputs": [
    {
     "name": "stdout",
     "output_type": "stream",
     "text": [
      "['https://cdn.beeradvocate.com/im/beers/65.jpg']\n"
     ]
    }
   ],
   "source": [
    "# scoreclass = soup.find('div', {'id':'score_box'}).find_all('b')\n",
    "# sc = scoreclass[1].text\n",
    "# print (sc)\n",
    "# print(imageLink)"
   ]
  },
  {
   "cell_type": "code",
   "execution_count": 98,
   "metadata": {},
   "outputs": [],
   "source": [
    "featuredf = pd.DataFrame({\"Score\":Score,\"ScoreClass\":ScoreClass,\n",
    "                          \"RatingCount\":RatingCount,\"Ranking\":Ranking,\"ReviewCount\":ReviewCount,\"pDev\":pDev,\n",
    "                         \"BrosScore\":BrosScore,\"Brewer\":Brewer,\"Location\":Location,\"ABV\":ABV,\n",
    "                         \"Availaility\":Availability,\"ImageLink\":imageLink})"
   ]
  },
  {
   "cell_type": "code",
   "execution_count": 99,
   "metadata": {},
   "outputs": [
    {
     "data": {
      "text/html": [
       "<div>\n",
       "<style>\n",
       "    .dataframe thead tr:only-child th {\n",
       "        text-align: right;\n",
       "    }\n",
       "\n",
       "    .dataframe thead th {\n",
       "        text-align: left;\n",
       "    }\n",
       "\n",
       "    .dataframe tbody tr th {\n",
       "        vertical-align: top;\n",
       "    }\n",
       "</style>\n",
       "<table border=\"1\" class=\"dataframe\">\n",
       "  <thead>\n",
       "    <tr style=\"text-align: right;\">\n",
       "      <th></th>\n",
       "      <th>ABV</th>\n",
       "      <th>Availaility</th>\n",
       "      <th>Brewer</th>\n",
       "      <th>BrosScore</th>\n",
       "      <th>ImageLink</th>\n",
       "      <th>Location</th>\n",
       "      <th>Ranking</th>\n",
       "      <th>RatingCount</th>\n",
       "      <th>ReviewCount</th>\n",
       "      <th>Score</th>\n",
       "      <th>ScoreClass</th>\n",
       "      <th>pDev</th>\n",
       "    </tr>\n",
       "  </thead>\n",
       "  <tbody>\n",
       "    <tr>\n",
       "      <th>0</th>\n",
       "      <td>8.00%</td>\n",
       "      <td>Year-round</td>\n",
       "      <td>Utah Brewers Cooperative</td>\n",
       "      <td></td>\n",
       "      <td>https://cdn.beeradvocate.com/im/beers/40200.jpg</td>\n",
       "      <td></td>\n",
       "      <td>#32,899</td>\n",
       "      <td>535</td>\n",
       "      <td>180</td>\n",
       "      <td>3.67</td>\n",
       "      <td>Good</td>\n",
       "      <td>13.62%</td>\n",
       "    </tr>\n",
       "  </tbody>\n",
       "</table>\n",
       "</div>"
      ],
      "text/plain": [
       "     ABV Availaility                    Brewer BrosScore  \\\n",
       "0  8.00%  Year-round  Utah Brewers Cooperative             \n",
       "\n",
       "                                         ImageLink Location  Ranking  \\\n",
       "0  https://cdn.beeradvocate.com/im/beers/40200.jpg           #32,899   \n",
       "\n",
       "  RatingCount ReviewCount Score ScoreClass    pDev  \n",
       "0         535         180  3.67       Good  13.62%  "
      ]
     },
     "execution_count": 99,
     "metadata": {},
     "output_type": "execute_result"
    }
   ],
   "source": [
    "featuredf"
   ]
  },
  {
   "cell_type": "code",
   "execution_count": 57,
   "metadata": {},
   "outputs": [
    {
     "name": "stdout",
     "output_type": "stream",
     "text": [
      "Missouri, United States\n"
     ]
    }
   ],
   "source": [
    "location = []\n",
    "for ahref in test:\n",
    "#     print(ahref['href'])\n",
    "    if ('/place/' in ahref['href']):\n",
    "        location.append(ahref.text)\n",
    "if (len(location) > 1):\n",
    "    place = ', '.join(location)\n",
    "else:\n",
    "    place = location[0]\n",
    "print(place)"
   ]
  },
  {
   "cell_type": "code",
   "execution_count": 9,
   "metadata": {
    "collapsed": true
   },
   "outputs": [],
   "source": [
    "# save to csv\n",
    "# featuredf.to_csv('BeerFeatures.csv', index=False)"
   ]
  }
 ],
 "metadata": {
  "kernelspec": {
   "display_name": "Python [conda env:PythonData]",
   "language": "python",
   "name": "conda-env-PythonData-py"
  },
  "language_info": {
   "codemirror_mode": {
    "name": "ipython",
    "version": 3
   },
   "file_extension": ".py",
   "mimetype": "text/x-python",
   "name": "python",
   "nbconvert_exporter": "python",
   "pygments_lexer": "ipython3",
   "version": "3.6.1"
  }
 },
 "nbformat": 4,
 "nbformat_minor": 2
}
