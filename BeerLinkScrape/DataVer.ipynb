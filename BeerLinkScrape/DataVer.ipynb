{
 "cells": [
  {
   "cell_type": "code",
   "execution_count": 1,
   "metadata": {
    "collapsed": true
   },
   "outputs": [],
   "source": [
    "import pandas as pd"
   ]
  },
  {
   "cell_type": "code",
   "execution_count": 3,
   "metadata": {},
   "outputs": [],
   "source": [
    "df = pd.read_csv('../encoded2.csv')"
   ]
  },
  {
   "cell_type": "code",
   "execution_count": 7,
   "metadata": {},
   "outputs": [
    {
     "data": {
      "text/plain": [
       "Index(['ABV', 'Availaility', 'Brewer', 'BrosScore', 'ImageLink', 'Location',\n",
       "       'Name', 'Ranking', 'num_ratings', 'ReviewCount', 'Score', 'ScoreClass',\n",
       "       'Style', 'URL', 'pDev', 'Flavor', 'Hoppiness', 'Maltiness',\n",
       "       'Fruitiness', 'Body', 'Sweetness', 'Sour', 'spicy', 'bitter',\n",
       "       'Aroma_None', 'Aroma_caramel', 'Aroma_floral', 'Aroma_fruit',\n",
       "       'Custom Flavor_None', 'Custom Flavor_banana',\n",
       "       'Custom Flavor_brown sugar', 'Custom Flavor_burnt',\n",
       "       'Custom Flavor_caramel', 'Custom Flavor_chocolate',\n",
       "       'Custom Flavor_earthy', 'Custom Flavor_herbal', 'Custom Flavor_pumpkin',\n",
       "       'Custom Flavor_roasted', 'Custom Flavor_smoke', 'Custom Flavor_toasted',\n",
       "       'Custom Flavor_wheat', 'Color_amber', 'Color_black', 'Color_dark ',\n",
       "       'Color_gold', 'Color_pale'],\n",
       "      dtype='object')"
      ]
     },
     "execution_count": 7,
     "metadata": {},
     "output_type": "execute_result"
    }
   ],
   "source": [
    "df.columns"
   ]
  },
  {
   "cell_type": "code",
   "execution_count": 5,
   "metadata": {},
   "outputs": [
    {
     "data": {
      "text/plain": [
       "32780"
      ]
     },
     "execution_count": 5,
     "metadata": {},
     "output_type": "execute_result"
    }
   ],
   "source": [
    "len(df.drop_duplicates())"
   ]
  },
  {
   "cell_type": "code",
   "execution_count": 6,
   "metadata": {},
   "outputs": [
    {
     "data": {
      "text/plain": [
       "32780"
      ]
     },
     "execution_count": 6,
     "metadata": {},
     "output_type": "execute_result"
    }
   ],
   "source": [
    "len(df.drop_duplicates(subset = 'URL'))"
   ]
  },
  {
   "cell_type": "code",
   "execution_count": 23,
   "metadata": {},
   "outputs": [
    {
     "data": {
      "text/plain": [
       "Name\n",
       "1 A.M. Ale                                    1 A.M. Ale\n",
       "71 Pale Ale                                  71 Pale Ale\n",
       "Amber Ale                                      Amber Ale\n",
       "Anonymous IPA                              Anonymous IPA\n",
       "Appalachian Pale Ale                Appalachian Pale Ale\n",
       "Barrel Aged Big Hugs                Barrel Aged Big Hugs\n",
       "Bengal Gold India Pale Ale    Bengal Gold India Pale Ale\n",
       "Big Horn Hefeweizen                  Big Horn Hefeweizen\n",
       "Big Red IPA                                  Big Red IPA\n",
       "Black Bear Ale                            Black Bear Ale\n",
       "Buttface Amber                            Buttface Amber\n",
       "Buttface Amber Ale                    Buttface Amber Ale\n",
       "Elusive IPA                                  Elusive IPA\n",
       "Flagship IPA                                Flagship IPA\n",
       "House Brand IPA                          House Brand IPA\n",
       "Irish Dry Stout                          Irish Dry Stout\n",
       "Jewish Rye Beer                          Jewish Rye Beer\n",
       "Lactobacillus Guava Grove      Lactobacillus Guava Grove\n",
       "McCarthy Red                                McCarthy Red\n",
       "Munich Light                                Munich Light\n",
       "PM Porter                                      PM Porter\n",
       "Piranha Pale Ale                        Piranha Pale Ale\n",
       "Revelation Stout                        Revelation Stout\n",
       "The Duke                                        The Duke\n",
       "Total Disorder Porter              Total Disorder Porter\n",
       "Tuckaleechee Porter                  Tuckaleechee Porter\n",
       "Victory Pale Ale                        Victory Pale Ale\n",
       "Name: Name, dtype: object"
      ]
     },
     "execution_count": 23,
     "metadata": {},
     "output_type": "execute_result"
    }
   ],
   "source": [
    "df[df.duplicated(subset = [\"Name\", \"Brewer\"])].groupby('Name')[['Name'].first()"
   ]
  },
  {
   "cell_type": "code",
   "execution_count": null,
   "metadata": {
    "collapsed": true
   },
   "outputs": [],
   "source": []
  }
 ],
 "metadata": {
  "kernelspec": {
   "display_name": "Python [conda env:PythonData]",
   "language": "python",
   "name": "conda-env-PythonData-py"
  },
  "language_info": {
   "codemirror_mode": {
    "name": "ipython",
    "version": 3
   },
   "file_extension": ".py",
   "mimetype": "text/x-python",
   "name": "python",
   "nbconvert_exporter": "python",
   "pygments_lexer": "ipython3",
   "version": "3.6.1"
  }
 },
 "nbformat": 4,
 "nbformat_minor": 2
}
