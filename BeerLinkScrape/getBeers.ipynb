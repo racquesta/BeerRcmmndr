{
 "cells": [
  {
   "cell_type": "code",
   "execution_count": 52,
   "metadata": {},
   "outputs": [],
   "source": [
    "import pandas as pd\n",
    "from bs4 import BeautifulSoup\n",
    "import requests\n",
    "from splinter import Browser"
   ]
  },
  {
   "cell_type": "code",
   "execution_count": 2,
   "metadata": {
    "collapsed": true
   },
   "outputs": [],
   "source": [
    "# read in beerstyles csv\n",
    "df = pd.read_csv('styleLinks.csv')"
   ]
  },
  {
   "cell_type": "code",
   "execution_count": 3,
   "metadata": {},
   "outputs": [
    {
     "data": {
      "text/html": [
       "<div>\n",
       "<style>\n",
       "    .dataframe thead tr:only-child th {\n",
       "        text-align: right;\n",
       "    }\n",
       "\n",
       "    .dataframe thead th {\n",
       "        text-align: left;\n",
       "    }\n",
       "\n",
       "    .dataframe tbody tr th {\n",
       "        vertical-align: top;\n",
       "    }\n",
       "</style>\n",
       "<table border=\"1\" class=\"dataframe\">\n",
       "  <thead>\n",
       "    <tr style=\"text-align: right;\">\n",
       "      <th></th>\n",
       "      <th>csv_name</th>\n",
       "      <th>match_name</th>\n",
       "      <th>style_link</th>\n",
       "      <th>style_name</th>\n",
       "    </tr>\n",
       "  </thead>\n",
       "  <tbody>\n",
       "    <tr>\n",
       "      <th>0</th>\n",
       "      <td>americanadjunctlager</td>\n",
       "      <td>americanadjunctlager</td>\n",
       "      <td>https://www.beeradvocate.com/beer/style/38/</td>\n",
       "      <td>American Adjunct Lager</td>\n",
       "    </tr>\n",
       "    <tr>\n",
       "      <th>1</th>\n",
       "      <td>munichhelleslager</td>\n",
       "      <td>munichhelleslager</td>\n",
       "      <td>https://www.beeradvocate.com/beer/style/21/</td>\n",
       "      <td>Munich Helles Lager</td>\n",
       "    </tr>\n",
       "    <tr>\n",
       "      <th>2</th>\n",
       "      <td>germanpilsener</td>\n",
       "      <td>germanpilsener</td>\n",
       "      <td>https://www.beeradvocate.com/beer/style/41/</td>\n",
       "      <td>German Pilsener</td>\n",
       "    </tr>\n",
       "    <tr>\n",
       "      <th>3</th>\n",
       "      <td>czechpilsener</td>\n",
       "      <td>czechpilsener</td>\n",
       "      <td>https://www.beeradvocate.com/beer/style/40/</td>\n",
       "      <td>Czech Pilsener</td>\n",
       "    </tr>\n",
       "    <tr>\n",
       "      <th>4</th>\n",
       "      <td>americanamberredlager</td>\n",
       "      <td>americanamberredlager</td>\n",
       "      <td>https://www.beeradvocate.com/beer/style/147/</td>\n",
       "      <td>American Amber / Red Lager</td>\n",
       "    </tr>\n",
       "  </tbody>\n",
       "</table>\n",
       "</div>"
      ],
      "text/plain": [
       "                csv_name             match_name  \\\n",
       "0   americanadjunctlager   americanadjunctlager   \n",
       "1      munichhelleslager      munichhelleslager   \n",
       "2         germanpilsener         germanpilsener   \n",
       "3          czechpilsener          czechpilsener   \n",
       "4  americanamberredlager  americanamberredlager   \n",
       "\n",
       "                                     style_link                  style_name  \n",
       "0   https://www.beeradvocate.com/beer/style/38/      American Adjunct Lager  \n",
       "1   https://www.beeradvocate.com/beer/style/21/         Munich Helles Lager  \n",
       "2   https://www.beeradvocate.com/beer/style/41/             German Pilsener  \n",
       "3   https://www.beeradvocate.com/beer/style/40/              Czech Pilsener  \n",
       "4  https://www.beeradvocate.com/beer/style/147/  American Amber / Red Lager  "
      ]
     },
     "execution_count": 3,
     "metadata": {},
     "output_type": "execute_result"
    }
   ],
   "source": [
    "df.head()"
   ]
  },
  {
   "cell_type": "code",
   "execution_count": 5,
   "metadata": {
    "collapsed": true
   },
   "outputs": [],
   "source": [
    "# first let's read one page\n",
    "url = 'https://www.beeradvocate.com/beer/style/38/'\n",
    "style_name = 'American Adjunct Lager'"
   ]
  },
  {
   "cell_type": "code",
   "execution_count": 53,
   "metadata": {},
   "outputs": [
    {
     "name": "stdout",
     "output_type": "stream",
     "text": [
      "https://www.beeradvocate.com/beer/style/38/ American Adjunct Lager\n",
      "https://www.beeradvocate.com/beer/style/21/ Munich Helles Lager\n",
      "https://www.beeradvocate.com/beer/style/41/ German Pilsener\n",
      "https://www.beeradvocate.com/beer/style/40/ Czech Pilsener\n",
      "https://www.beeradvocate.com/beer/style/147/ American Amber / Red Lager\n",
      "https://www.beeradvocate.com/beer/style/29/ Märzen / Oktoberfest\n",
      "https://www.beeradvocate.com/beer/style/31/ Schwarzbier\n",
      "https://www.beeradvocate.com/beer/style/30/ Vienna Lager\n",
      "https://www.beeradvocate.com/beer/style/92/ Weizenbock\n",
      "https://www.beeradvocate.com/beer/style/32/ Bock\n",
      "https://www.beeradvocate.com/beer/style/35/ Doppelbock\n",
      "https://www.beeradvocate.com/beer/style/33/ Maibock / Helles Bock\n",
      "https://www.beeradvocate.com/beer/style/73/ American Brown Ale\n",
      "https://www.beeradvocate.com/beer/style/74/ English Brown Ale\n",
      "https://www.beeradvocate.com/beer/style/128/ American Amber / Red Ale\n",
      "https://www.beeradvocate.com/beer/style/97/ American Pale Ale (APA)\n",
      "https://www.beeradvocate.com/beer/style/99/ American Blonde Ale\n",
      "https://www.beeradvocate.com/beer/style/98/ English Bitter\n",
      "https://www.beeradvocate.com/beer/style/154/ English Pale Ale\n",
      "https://www.beeradvocate.com/beer/style/116/ American IPA\n",
      "https://www.beeradvocate.com/beer/style/140/ American Double / Imperial IPA\n",
      "https://www.beeradvocate.com/beer/style/150/ English India Pale Ale (IPA)\n",
      "https://www.beeradvocate.com/beer/style/159/ American Porter\n",
      "https://www.beeradvocate.com/beer/style/101/ English Porter\n",
      "https://www.beeradvocate.com/beer/style/80/ Baltic Porter\n",
      "https://www.beeradvocate.com/beer/style/158/ American Stout\n",
      "https://www.beeradvocate.com/beer/style/157/ American Double / Imperial Stout\n",
      "https://www.beeradvocate.com/beer/style/69/ Oatmeal Stout\n",
      "https://www.beeradvocate.com/beer/style/82/ Milk / Sweet Stout\n",
      "https://www.beeradvocate.com/beer/style/162/ Irish Dry Stout\n",
      "https://www.beeradvocate.com/beer/style/54/ Belgian Pale Ale\n",
      "https://www.beeradvocate.com/beer/style/57/ Dubbel\n",
      "https://www.beeradvocate.com/beer/style/58/ Tripel\n",
      "https://www.beeradvocate.com/beer/style/142/ Quadrupel (Quad)\n",
      "https://www.beeradvocate.com/beer/style/56/ Belgian Strong Dark Ale\n",
      "https://www.beeradvocate.com/beer/style/129/ Saison / Farmhouse Ale\n",
      "https://www.beeradvocate.com/beer/style/93/ American Pale Wheat Ale\n",
      "https://www.beeradvocate.com/beer/style/48/ Witbier\n",
      "https://www.beeradvocate.com/beer/style/87/ Berliner Weissbier\n",
      "https://www.beeradvocate.com/beer/style/91/ Dunkelweizen\n",
      "https://www.beeradvocate.com/beer/style/89/ Hefeweizen\n",
      "https://www.beeradvocate.com/beer/style/171/ American Wild Ale\n",
      "https://www.beeradvocate.com/beer/style/10/ Lambic - Fruit\n",
      "https://www.beeradvocate.com/beer/style/53/ Flanders Red Ale\n",
      "https://www.beeradvocate.com/beer/style/14/ Gueuze\n",
      "https://www.beeradvocate.com/beer/style/72/ Pumpkin Ale\n",
      "https://www.beeradvocate.com/beer/style/12/ Rye Beer\n",
      "https://www.beeradvocate.com/beer/style/11/ Smoked Beer\n"
     ]
    }
   ],
   "source": [
    "baseUrl = 'https://www.beeradvocate.com'\n",
    "beerlinks = []\n",
    "beernames = []\n",
    "beerstyles = []\n",
    "\n",
    "for index, row in df.iterrows():\n",
    "#     print(row[2], row[3])\n",
    "    url = row[2]\n",
    "    style_name = row[3]\n",
    "    \n",
    "    # go to each beer style page and get the top 50 beers (by count of ratings)\n",
    "    # response from site\n",
    "    response = requests.get(url)\n",
    "\n",
    "    # Create BeautifulSoup object; parse with 'html.parser'\n",
    "    soup = BeautifulSoup(response.text, 'html.parser')\n",
    "    beerTable = soup.find('table')\n",
    "    \n",
    "    # get the all the td hrefs\n",
    "    hrefs = soup.select('tr td a[href]')\n",
    "    # skip the first 9 records and the last 4 (headers and pagination links) - check that there are 113 records\n",
    "    if (len(hrefs) == 113):\n",
    "        beerHrefs = hrefs[9:109]\n",
    "        # then loop through and get every other (first is the beer, second is the brewery)\n",
    "        count = 0\n",
    "        for beerHref in beerHrefs:\n",
    "            if (count % 2 == 0):\n",
    "                beerlink = beerHref['href']\n",
    "                beername = beerHref.text\n",
    "    #             print(beerlink, beername)\n",
    "                beerlinks.append(baseUrl + beerlink)\n",
    "                beernames.append(beername)\n",
    "                beerstyles.append(style_name)\n",
    "            count += 1\n",
    "    else:\n",
    "        print(\"something different about this page - does not have 113 records\")"
   ]
  },
  {
   "cell_type": "code",
   "execution_count": 19,
   "metadata": {},
   "outputs": [],
   "source": [
    "# without splinter \n",
    "\n",
    "# response from site\n",
    "response = requests.get(url)\n",
    "\n",
    "# Create BeautifulSoup object; parse with 'html.parser'\n",
    "soup = BeautifulSoup(response.text, 'html.parser')\n",
    "beerTable = soup.find('table')"
   ]
  },
  {
   "cell_type": "code",
   "execution_count": 32,
   "metadata": {},
   "outputs": [],
   "source": [
    "# print(beerTable)"
   ]
  },
  {
   "cell_type": "code",
   "execution_count": 33,
   "metadata": {},
   "outputs": [],
   "source": [
    "# beerRows = beerTable.find_all('tr')\n",
    "# print(beerRows)"
   ]
  },
  {
   "cell_type": "code",
   "execution_count": 34,
   "metadata": {},
   "outputs": [],
   "source": [
    "# - doesn't return all rows - only returns budweiser (first beer on list)\n",
    "# for beerRow in beerRows:\n",
    "#     beerCells = beerRow.find_all('td')\n",
    "#     print(beerCells[0])\n",
    "#     print('______________________')"
   ]
  },
  {
   "cell_type": "code",
   "execution_count": 24,
   "metadata": {},
   "outputs": [
    {
     "name": "stdout",
     "output_type": "stream",
     "text": [
      "<a href=\"/beer/style/38/?sort=revsD&amp;start=50\"> 51-100 </a>\n",
      "<a href=\"/beer/style/38/?sort=revsD&amp;start=100\"> 101-150 </a>\n",
      "<a href=\"/beer/style/38/?sort=revsD&amp;start=50\">next</a>\n",
      "<a href=\"/beer/style/38/?sort=revsD&amp;start=1150\">last</a>\n",
      "<a href=\"/beer/style/38/?sort=nameA\">Name</a>\n",
      "<a href=\"/beer/style/38/?sort=brewerA\">Brewery</a>\n",
      "<a href=\"/beer/style/38/?sort=abvD\">ABV</a>\n",
      "<a href=\"/beer/style/38/?sort=revsA\">Ratings &gt;</a>\n",
      "<a href=\"/beer/style/38/?sort=avgD\">Score</a>\n",
      "<a href=\"/beer/profile/29/65/\"><b>Budweiser</b></a>\n",
      "<a href=\"/beer/profile/29/\">Anheuser-Busch</a>\n",
      "<a href=\"/beer/profile/447/1331/\"><b>Pabst Blue Ribbon (PBR)</b></a>\n",
      "<a href=\"/beer/profile/447/\">Pabst Brewing Company</a>\n",
      "<a href=\"/beer/profile/75/232/\"><b>Corona Extra</b></a>\n",
      "<a href=\"/beer/profile/75/\">Grupo Modelo S.A. de C.V.</a>\n",
      "<a href=\"/beer/profile/105/580/\"><b>Miller High Life</b></a>\n",
      "<a href=\"/beer/profile/105/\">Miller Brewing Co.</a>\n",
      "<a href=\"/beer/profile/221/689/\"><b>Red Stripe Jamaican Lager</b></a>\n",
      "<a href=\"/beer/profile/221/\">Desnoes &amp; Geddes Limited</a>\n",
      "<a href=\"/beer/profile/306/1276/\"><b>Coors Banquet</b></a>\n",
      "<a href=\"/beer/profile/306/\">Coors Brewing Company (Molson-Coors)</a>\n",
      "<a href=\"/beer/profile/174/567/\"><b>Rolling Rock Extra Pale</b></a>\n",
      "<a href=\"/beer/profile/174/\">Latrobe Brewing Co.</a>\n",
      "<a href=\"/beer/profile/57/1907/\"><b>Dos Equis Special Lager</b></a>\n",
      "<a href=\"/beer/profile/57/\">Cervecería Cuauhtémoc Moctezuma, S.A. de C.V.</a>\n",
      "<a href=\"/beer/profile/105/2280/\"><b>Miller Genuine Draft</b></a>\n",
      "<a href=\"/beer/profile/105/\">Miller Brewing Co.</a>\n",
      "<a href=\"/beer/profile/75/1321/\"><b>Modelo Especial</b></a>\n",
      "<a href=\"/beer/profile/75/\">Grupo Modelo S.A. de C.V.</a>\n",
      "<a href=\"/beer/profile/478/1371/\"><b>Labatt Blue</b></a>\n",
      "<a href=\"/beer/profile/478/\">Labatt Brewing Company Ltd.</a>\n",
      "<a href=\"/beer/profile/575/918/\"><b>Foster's Lager</b></a>\n",
      "<a href=\"/beer/profile/575/\">Foster's Group Limited</a>\n",
      "<a href=\"/beer/profile/57/848/\"><b>Tecate</b></a>\n",
      "<a href=\"/beer/profile/57/\">Cervecería Cuauhtémoc Moctezuma, S.A. de C.V.</a>\n",
      "<a href=\"/beer/profile/75/2755/\"><b>Pacifico Cerveza Clara</b></a>\n",
      "<a href=\"/beer/profile/75/\">Grupo Modelo S.A. de C.V.</a>\n",
      "<a href=\"/beer/profile/16098/34804/\"><b>Landshark Lager</b></a>\n",
      "<a href=\"/beer/profile/16098/\">Margaritaville Brewing Co.</a>\n",
      "<a href=\"/beer/profile/433/1312/\"><b>Molson Canadian Lager</b></a>\n",
      "<a href=\"/beer/profile/433/\">Molson Coors Canada</a>\n",
      "<a href=\"/beer/profile/281/767/\"><b>Tsingtao</b></a>\n",
      "<a href=\"/beer/profile/281/\">Tsingtao Brewery Co., Ltd.</a>\n",
      "<a href=\"/beer/profile/29/670/\"><b>Busch Beer</b></a>\n",
      "<a href=\"/beer/profile/29/\">Anheuser-Busch</a>\n",
      "<a href=\"/beer/profile/29/653/\"><b>Natural Ice</b></a>\n",
      "<a href=\"/beer/profile/29/\">Anheuser-Busch</a>\n",
      "<a href=\"/beer/profile/57/2803/\"><b>Sol</b></a>\n",
      "<a href=\"/beer/profile/57/\">Cervecería Cuauhtémoc Moctezuma, S.A. de C.V.</a>\n",
      "<a href=\"/beer/profile/379/1053/\"><b>Moosehead Lager</b></a>\n",
      "<a href=\"/beer/profile/379/\">Moosehead Breweries Ltd.</a>\n",
      "<a href=\"/beer/profile/213/7406/\"><b>Narragansett Lager</b></a>\n",
      "<a href=\"/beer/profile/213/\">Narragansett Brewing Co.</a>\n",
      "<a href=\"/beer/profile/105/1299/\"><b>Icehouse</b></a>\n",
      "<a href=\"/beer/profile/105/\">Miller Brewing Co.</a>\n",
      "<a href=\"/beer/profile/29/1642/\"><b>Bud Ice</b></a>\n",
      "<a href=\"/beer/profile/29/\">Anheuser-Busch</a>\n",
      "<a href=\"/beer/profile/727/2176/\"><b>Tiger Beer</b></a>\n",
      "<a href=\"/beer/profile/727/\">Asia Pacific Breweries Limited</a>\n",
      "<a href=\"/beer/profile/320/870/\"><b>Hamm's</b></a>\n",
      "<a href=\"/beer/profile/320/\">Hamm's Brewing Co.</a>\n",
      "<a href=\"/beer/profile/447/1332/\"><b>Old Milwaukee Beer</b></a>\n",
      "<a href=\"/beer/profile/447/\">Pabst Brewing Company</a>\n",
      "<a href=\"/beer/profile/447/1719/\"><b>Lone Star Beer</b></a>\n",
      "<a href=\"/beer/profile/447/\">Pabst Brewing Company</a>\n",
      "<a href=\"/beer/profile/105/1286/\"><b>Milwaukee's Best</b></a>\n",
      "<a href=\"/beer/profile/105/\">Miller Brewing Co.</a>\n",
      "<a href=\"/beer/profile/912/2910/\"><b>Presidente</b></a>\n",
      "<a href=\"/beer/profile/912/\">Cervecería Nacional Dominicana</a>\n",
      "<a href=\"/beer/profile/105/1207/\"><b>Red Dog</b></a>\n",
      "<a href=\"/beer/profile/105/\">Miller Brewing Co.</a>\n",
      "<a href=\"/beer/profile/306/2947/\"><b>Keystone Ice</b></a>\n",
      "<a href=\"/beer/profile/306/\">Coors Brewing Company (Molson-Coors)</a>\n",
      "<a href=\"/beer/profile/447/1727/\"><b>Old Style</b></a>\n",
      "<a href=\"/beer/profile/447/\">Pabst Brewing Company</a>\n",
      "<a href=\"/beer/profile/105/1484/\"><b>Milwaukee's Best Ice</b></a>\n",
      "<a href=\"/beer/profile/105/\">Miller Brewing Co.</a>\n",
      "<a href=\"/beer/profile/302/865/\"><b>Genesee Beer</b></a>\n",
      "<a href=\"/beer/profile/302/\">Genesee Brewing Co. / Dundee Brewing Co.</a>\n",
      "<a href=\"/beer/profile/710/3333/\"><b>Leinenkugel's Original</b></a>\n",
      "<a href=\"/beer/profile/710/\">Jacob Leinenkugel Brewing Company</a>\n",
      "<a href=\"/beer/profile/447/1330/\"><b>Stroh's</b></a>\n",
      "<a href=\"/beer/profile/447/\">Pabst Brewing Company</a>\n",
      "<a href=\"/beer/profile/417/10364/\"><b>Grain Belt Premium</b></a>\n",
      "<a href=\"/beer/profile/417/\">August Schell Brewing Company</a>\n",
      "<a href=\"/beer/profile/1491/3940/\"><b>Imperial</b></a>\n",
      "<a href=\"/beer/profile/1491/\">Cerveceria Costa Rica</a>\n",
      "<a href=\"/beer/profile/447/7363/\"><b>National Bohemian Beer</b></a>\n",
      "<a href=\"/beer/profile/447/\">Pabst Brewing Company</a>\n",
      "<a href=\"/beer/profile/410/2680/\"><b>Iron City Beer</b></a>\n",
      "<a href=\"/beer/profile/410/\">Pittsburgh Brewing Co.</a>\n",
      "<a href=\"/beer/profile/57/1284/\"><b>Carta Blanca</b></a>\n",
      "<a href=\"/beer/profile/57/\">Cervecería Cuauhtémoc Moctezuma, S.A. de C.V.</a>\n",
      "<a href=\"/beer/profile/106/44315/\"><b>Schlitz Gusto (Classic 1960's Formula)</b></a>\n",
      "<a href=\"/beer/profile/106/\">JOS. Schlitz Brewing Co. (Pabst)</a>\n",
      "<a href=\"/beer/profile/433/1359/\"><b>Molson Ice</b></a>\n",
      "<a href=\"/beer/profile/433/\">Molson Coors Canada</a>\n",
      "<a href=\"/beer/profile/1252/3637/\"><b>Quilmes</b></a>\n",
      "<a href=\"/beer/profile/1252/\">Cervecería y Maltería Quilmes / Grupo Bemberg</a>\n",
      "<a href=\"/beer/profile/150/5412/\"><b>Lionshead Pilsner</b></a>\n",
      "<a href=\"/beer/profile/150/\">Lion Brewery, Inc.</a>\n",
      "<a href=\"/beer/profile/91/2970/\"><b>Taj Mahal Premium Lager</b></a>\n",
      "<a href=\"/beer/profile/91/\">United Breweries - UB Group</a>\n",
      "<a href=\"/beer/profile/272/750/\"><b>Carib Lager</b></a>\n",
      "<a href=\"/beer/profile/272/\">Carib Brewery Limited</a>\n",
      "<a href=\"/beer/profile/355/922/\"><b>San Miguel Premium Lager</b></a>\n",
      "<a href=\"/beer/profile/355/\">San Miguel Brewery Inc.</a>\n",
      "<a href=\"/beer/profile/404/1185/\"><b>Dixie</b></a>\n",
      "<a href=\"/beer/profile/404/\">Dixie Brewing Co.</a>\n",
      "<a href=\"/beer/style/38/?sort=revsD&amp;start=50\"> 51-100 </a>\n",
      "<a href=\"/beer/style/38/?sort=revsD&amp;start=100\"> 101-150 </a>\n",
      "<a href=\"/beer/style/38/?sort=revsD&amp;start=50\">next</a>\n",
      "<a href=\"/beer/style/38/?sort=revsD&amp;start=1150\">last</a>\n"
     ]
    }
   ],
   "source": [
    "# this works\n",
    "for href in soup.select('tr td a[href]'):\n",
    "    print(href)"
   ]
  },
  {
   "cell_type": "code",
   "execution_count": 51,
   "metadata": {},
   "outputs": [],
   "source": [
    "# get the all the td hrefs\n",
    "hrefs = soup.select('tr td a[href]')\n",
    "# skip the first 9 records and the last 4 (headers and pagination links) - check that there are 113 records\n",
    "baseUrl = 'https://www.beeradvocate.com'\n",
    "beerlinks = []\n",
    "beernames = []\n",
    "beerstyles = []\n",
    "\n",
    "if (len(hrefs) == 113):\n",
    "    beerHrefs = hrefs[9:109]\n",
    "    # then loop through and get every other (first is the beer, second is the brewery)\n",
    "    count = 0\n",
    "    for beerHref in beerHrefs:\n",
    "        if (count % 2 == 0):\n",
    "            beerlink = beerHref['href']\n",
    "            beername = beerHref.text\n",
    "#             print(beerlink, beername)\n",
    "            beerlinks.append(baseUrl + beerlink)\n",
    "            beernames.append(beername)\n",
    "            beerstyles.append(style_name)\n",
    "        count += 1\n",
    "else:\n",
    "    print(\"something different about this page\")"
   ]
  },
  {
   "cell_type": "code",
   "execution_count": null,
   "metadata": {
    "collapsed": true
   },
   "outputs": [],
   "source": []
  },
  {
   "cell_type": "code",
   "execution_count": 27,
   "metadata": {
    "collapsed": true
   },
   "outputs": [],
   "source": [
    "# # try w splinter - this works too\n",
    "# executable_path = {'executable_path': 'chromedriver'}\n",
    "# browser = Browser('chrome', **executable_path, headless=True)\n",
    "# browser.visit(url)\n",
    "# html = browser.html"
   ]
  },
  {
   "cell_type": "code",
   "execution_count": 29,
   "metadata": {
    "collapsed": true
   },
   "outputs": [],
   "source": [
    "# # Create BeautifulSoup object; parse with 'html.parser'\n",
    "# soup = BeautifulSoup(html, 'html.parser')\n",
    "# beerRows2 = soup.find('table').find_all('tr')"
   ]
  },
  {
   "cell_type": "code",
   "execution_count": 49,
   "metadata": {},
   "outputs": [],
   "source": [
    "# for beerRow in beerRows2:\n",
    "#     beerCells = beerRow.find_all('td')\n",
    "#     print(beerCells[0])\n",
    "#     print('______________________')"
   ]
  },
  {
   "cell_type": "code",
   "execution_count": null,
   "metadata": {
    "collapsed": true
   },
   "outputs": [],
   "source": []
  }
 ],
 "metadata": {
  "kernelspec": {
   "display_name": "Python [conda env:PythonData]",
   "language": "python",
   "name": "conda-env-PythonData-py"
  },
  "language_info": {
   "codemirror_mode": {
    "name": "ipython",
    "version": 3
   },
   "file_extension": ".py",
   "mimetype": "text/x-python",
   "name": "python",
   "nbconvert_exporter": "python",
   "pygments_lexer": "ipython3",
   "version": "3.6.1"
  }
 },
 "nbformat": 4,
 "nbformat_minor": 2
}
