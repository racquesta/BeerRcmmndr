{
 "cells": [
  {
   "cell_type": "code",
   "execution_count": 1,
   "metadata": {
    "collapsed": true
   },
   "outputs": [],
   "source": [
    "import pandas as pd\n",
    "from bs4 import BeautifulSoup\n",
    "import requests"
   ]
  },
  {
   "cell_type": "code",
   "execution_count": 2,
   "metadata": {
    "collapsed": true
   },
   "outputs": [],
   "source": [
    "# read in beerstyles csv\n",
    "df = pd.read_csv('styleLinks.csv')"
   ]
  },
  {
   "cell_type": "code",
   "execution_count": 3,
   "metadata": {},
   "outputs": [
    {
     "data": {
      "text/html": [
       "<div>\n",
       "<style>\n",
       "    .dataframe thead tr:only-child th {\n",
       "        text-align: right;\n",
       "    }\n",
       "\n",
       "    .dataframe thead th {\n",
       "        text-align: left;\n",
       "    }\n",
       "\n",
       "    .dataframe tbody tr th {\n",
       "        vertical-align: top;\n",
       "    }\n",
       "</style>\n",
       "<table border=\"1\" class=\"dataframe\">\n",
       "  <thead>\n",
       "    <tr style=\"text-align: right;\">\n",
       "      <th></th>\n",
       "      <th>csv_name</th>\n",
       "      <th>match_name</th>\n",
       "      <th>style_link</th>\n",
       "      <th>style_name</th>\n",
       "    </tr>\n",
       "  </thead>\n",
       "  <tbody>\n",
       "    <tr>\n",
       "      <th>0</th>\n",
       "      <td>americanadjunctlager</td>\n",
       "      <td>americanadjunctlager</td>\n",
       "      <td>https://www.beeradvocate.com/beer/style/38/</td>\n",
       "      <td>American Adjunct Lager</td>\n",
       "    </tr>\n",
       "    <tr>\n",
       "      <th>1</th>\n",
       "      <td>munichhelleslager</td>\n",
       "      <td>munichhelleslager</td>\n",
       "      <td>https://www.beeradvocate.com/beer/style/21/</td>\n",
       "      <td>Munich Helles Lager</td>\n",
       "    </tr>\n",
       "    <tr>\n",
       "      <th>2</th>\n",
       "      <td>germanpilsener</td>\n",
       "      <td>germanpilsener</td>\n",
       "      <td>https://www.beeradvocate.com/beer/style/41/</td>\n",
       "      <td>German Pilsener</td>\n",
       "    </tr>\n",
       "    <tr>\n",
       "      <th>3</th>\n",
       "      <td>czechpilsener</td>\n",
       "      <td>czechpilsener</td>\n",
       "      <td>https://www.beeradvocate.com/beer/style/40/</td>\n",
       "      <td>Czech Pilsener</td>\n",
       "    </tr>\n",
       "    <tr>\n",
       "      <th>4</th>\n",
       "      <td>americanamberredlager</td>\n",
       "      <td>americanamberredlager</td>\n",
       "      <td>https://www.beeradvocate.com/beer/style/147/</td>\n",
       "      <td>American Amber / Red Lager</td>\n",
       "    </tr>\n",
       "  </tbody>\n",
       "</table>\n",
       "</div>"
      ],
      "text/plain": [
       "                csv_name             match_name  \\\n",
       "0   americanadjunctlager   americanadjunctlager   \n",
       "1      munichhelleslager      munichhelleslager   \n",
       "2         germanpilsener         germanpilsener   \n",
       "3          czechpilsener          czechpilsener   \n",
       "4  americanamberredlager  americanamberredlager   \n",
       "\n",
       "                                     style_link                  style_name  \n",
       "0   https://www.beeradvocate.com/beer/style/38/      American Adjunct Lager  \n",
       "1   https://www.beeradvocate.com/beer/style/21/         Munich Helles Lager  \n",
       "2   https://www.beeradvocate.com/beer/style/41/             German Pilsener  \n",
       "3   https://www.beeradvocate.com/beer/style/40/              Czech Pilsener  \n",
       "4  https://www.beeradvocate.com/beer/style/147/  American Amber / Red Lager  "
      ]
     },
     "execution_count": 3,
     "metadata": {},
     "output_type": "execute_result"
    }
   ],
   "source": [
    "df.head()"
   ]
  },
  {
   "cell_type": "code",
   "execution_count": 5,
   "metadata": {
    "collapsed": true
   },
   "outputs": [],
   "source": [
    "baseUrl = 'https://www.beeradvocate.com'\n",
    "beerlinks = []\n",
    "beernames = []\n",
    "beerstyles = []\n",
    "\n",
    "for index, row in df.iterrows():\n",
    "#     print(row[2], row[3])\n",
    "    url = row[2]\n",
    "    style_name = row[3]\n",
    "    \n",
    "    # go to each beer style page and get the top 50 beers (by count of ratings)\n",
    "    # response from site\n",
    "    response = requests.get(url)\n",
    "\n",
    "    # Create BeautifulSoup object; parse with 'html.parser'\n",
    "    soup = BeautifulSoup(response.text, 'html.parser')\n",
    "    beerTable = soup.find('table')\n",
    "    \n",
    "    # get the all the td hrefs\n",
    "    hrefs = soup.select('tr td a[href]')\n",
    "    # skip the first 9 records and the last 4 (headers and pagination links) - check that there are 113 records\n",
    "    if (len(hrefs) == 113):\n",
    "        beerHrefs = hrefs[9:109]\n",
    "        # then loop through and get every other (first is the beer, second is the brewery)\n",
    "        count = 0\n",
    "        for beerHref in beerHrefs:\n",
    "            if (count % 2 == 0):\n",
    "                beerlink = beerHref['href']\n",
    "                beername = beerHref.text\n",
    "    #             print(beerlink, beername)\n",
    "                beerlinks.append(baseUrl + beerlink)\n",
    "                beernames.append(beername)\n",
    "                beerstyles.append(style_name)\n",
    "            count += 1\n",
    "    else:\n",
    "        print(\"something different about this page - does not have 113 records\")"
   ]
  },
  {
   "cell_type": "code",
   "execution_count": 6,
   "metadata": {},
   "outputs": [
    {
     "data": {
      "text/html": [
       "<div>\n",
       "<style>\n",
       "    .dataframe thead tr:only-child th {\n",
       "        text-align: right;\n",
       "    }\n",
       "\n",
       "    .dataframe thead th {\n",
       "        text-align: left;\n",
       "    }\n",
       "\n",
       "    .dataframe tbody tr th {\n",
       "        vertical-align: top;\n",
       "    }\n",
       "</style>\n",
       "<table border=\"1\" class=\"dataframe\">\n",
       "  <thead>\n",
       "    <tr style=\"text-align: right;\">\n",
       "      <th></th>\n",
       "      <th>names</th>\n",
       "      <th>style</th>\n",
       "      <th>url</th>\n",
       "    </tr>\n",
       "  </thead>\n",
       "  <tbody>\n",
       "    <tr>\n",
       "      <th>0</th>\n",
       "      <td>Budweiser</td>\n",
       "      <td>American Adjunct Lager</td>\n",
       "      <td>https://www.beeradvocate.com/beer/profile/29/65/</td>\n",
       "    </tr>\n",
       "    <tr>\n",
       "      <th>1</th>\n",
       "      <td>Pabst Blue Ribbon (PBR)</td>\n",
       "      <td>American Adjunct Lager</td>\n",
       "      <td>https://www.beeradvocate.com/beer/profile/447/...</td>\n",
       "    </tr>\n",
       "    <tr>\n",
       "      <th>2</th>\n",
       "      <td>Corona Extra</td>\n",
       "      <td>American Adjunct Lager</td>\n",
       "      <td>https://www.beeradvocate.com/beer/profile/75/232/</td>\n",
       "    </tr>\n",
       "    <tr>\n",
       "      <th>3</th>\n",
       "      <td>Miller High Life</td>\n",
       "      <td>American Adjunct Lager</td>\n",
       "      <td>https://www.beeradvocate.com/beer/profile/105/...</td>\n",
       "    </tr>\n",
       "    <tr>\n",
       "      <th>4</th>\n",
       "      <td>Red Stripe Jamaican Lager</td>\n",
       "      <td>American Adjunct Lager</td>\n",
       "      <td>https://www.beeradvocate.com/beer/profile/221/...</td>\n",
       "    </tr>\n",
       "  </tbody>\n",
       "</table>\n",
       "</div>"
      ],
      "text/plain": [
       "                       names                   style  \\\n",
       "0                  Budweiser  American Adjunct Lager   \n",
       "1    Pabst Blue Ribbon (PBR)  American Adjunct Lager   \n",
       "2               Corona Extra  American Adjunct Lager   \n",
       "3           Miller High Life  American Adjunct Lager   \n",
       "4  Red Stripe Jamaican Lager  American Adjunct Lager   \n",
       "\n",
       "                                                 url  \n",
       "0   https://www.beeradvocate.com/beer/profile/29/65/  \n",
       "1  https://www.beeradvocate.com/beer/profile/447/...  \n",
       "2  https://www.beeradvocate.com/beer/profile/75/232/  \n",
       "3  https://www.beeradvocate.com/beer/profile/105/...  \n",
       "4  https://www.beeradvocate.com/beer/profile/221/...  "
      ]
     },
     "execution_count": 6,
     "metadata": {},
     "output_type": "execute_result"
    }
   ],
   "source": [
    "# create a df of all the beers to collect the rest of their features\n",
    "beerdf = pd.DataFrame({\"style\":beerstyles,\"names\":beernames,\"url\":beerlinks})\n",
    "beerdf.head()"
   ]
  },
  {
   "cell_type": "code",
   "execution_count": 8,
   "metadata": {},
   "outputs": [
    {
     "data": {
      "text/plain": [
       "names    2400\n",
       "style    2400\n",
       "url      2400\n",
       "dtype: int64"
      ]
     },
     "execution_count": 8,
     "metadata": {},
     "output_type": "execute_result"
    }
   ],
   "source": [
    "beerdf.count()"
   ]
  },
  {
   "cell_type": "code",
   "execution_count": 9,
   "metadata": {
    "collapsed": true
   },
   "outputs": [],
   "source": [
    "# save to csv\n",
    "beerdf.to_csv('Top50BeersEachStyle.csv', index=False)"
   ]
  }
 ],
 "metadata": {
  "kernelspec": {
   "display_name": "Python [conda env:PythonData]",
   "language": "python",
   "name": "conda-env-PythonData-py"
  },
  "language_info": {
   "codemirror_mode": {
    "name": "ipython",
    "version": 3
   },
   "file_extension": ".py",
   "mimetype": "text/x-python",
   "name": "python",
   "nbconvert_exporter": "python",
   "pygments_lexer": "ipython3",
   "version": "3.6.1"
  }
 },
 "nbformat": 4,
 "nbformat_minor": 2
}
