{
 "cells": [
  {
   "cell_type": "code",
   "execution_count": 2,
   "metadata": {
    "collapsed": true
   },
   "outputs": [],
   "source": [
    "import csv\n",
    "from bs4 import BeautifulSoup\n",
    "import pandas as pd\n",
    "import requests\n",
    "import re"
   ]
  },
  {
   "cell_type": "code",
   "execution_count": 4,
   "metadata": {},
   "outputs": [],
   "source": [
    "def user_scrape(username):\n",
    "    #  build user url\n",
    "    url = f\"https://www.beeradvocate.com/user/beers/?ba={username}&order=ratingD&start=0&view=R\"\n",
    "    \n",
    "    #  make request \n",
    "    response = requests.get(url)\n",
    "    \n",
    "    # beatiful soup object\n",
    "    soup = BeautifulSoup(response.text, 'html.parser')\n",
    "    \n",
    "    # grab user info table\n",
    "    profile_table = soup.find(\"div\", class_ = \"pairsJustified\")\n",
    "    \n",
    "    # data-points\n",
    "    dls = profile_table.find_all('dl')\n",
    "    \n",
    "    #  dictionary holding user states\n",
    "    profile_dict = {\"user_name\" : username}\n",
    "    \n",
    "    # loop through table items and make dictionary keys and values\n",
    "    for dl in dls:\n",
    "        profile_dict[dl.find('dt').text] = dl.find('dd').text\n",
    "    \n",
    "    # get the ratings table on the page\n",
    "    table = soup.find('table')\n",
    "    # get the ratings by row\n",
    "    user_ratings = table.find_all('tr')[3:]\n",
    "    \n",
    "    # list for top 3\n",
    "    top_3 = []\n",
    "\n",
    "    beer_links = []\n",
    "    for x in range(3):\n",
    "        text_info = user_ratings[x].find_all('a')\n",
    "        num_info = user_ratings[x].find_all('td')[-3:-1]\n",
    "        base_url_ba = \"https://www.beeradvocate.com\"\n",
    "        beer_link = base_url_ba + text_info[0]['href'][0:text_info[0]['href'].find(\"?\")]\n",
    "        beer_links.append(beer_link)\n",
    "        top_3_dict = {\"Beer Name\": text_info[0].text,\n",
    "                     \"Brewery\": text_info[1].text,\n",
    "                     \"Beer Style\": text_info[2].text,\n",
    "                     \"ABV\": num_info[0].text,\n",
    "                     \"User Rating\": num_info[1].text}\n",
    "        top_3.append(top_3_dict)\n",
    "        \n",
    "    for link in beer_links:\n",
    "        response = requests.get(link)\n",
    "        soup = BeautifulSoup(response.text, 'html.parser')\n",
    "        beerimages = soup.find('div', {'id': 'main_pic_norm'}).find_all('img')\n",
    "        beerlink = beerimages[0]['src']\n",
    "        if (beerlink is not None):\n",
    "            top_3_dict['image_link'] = beerlink\n",
    "        else:\n",
    "            top_3_dict['image_link'] = \"\"\n",
    "\n",
    "    return profile_dict, top_3, beer_links\n",
    "    \n",
    "\n",
    "profile, top_3, beer_links = user_scrape(\"brutaltruth\")\n"
   ]
  },
  {
   "cell_type": "code",
   "execution_count": 5,
   "metadata": {},
   "outputs": [
    {
     "data": {
      "text/plain": [
       "{'Beer Styles:': '92',\n",
       " 'Beers Added / Pics Uploaded:': '100 / 0',\n",
       " 'Beers Rated / Reviewed:': '1,656 / 1,653',\n",
       " 'Brewers:': '441',\n",
       " 'US States / Countries:': '40 / 30',\n",
       " 'user_name': 'brutaltruth'}"
      ]
     },
     "execution_count": 5,
     "metadata": {},
     "output_type": "execute_result"
    }
   ],
   "source": [
    "profile"
   ]
  },
  {
   "cell_type": "code",
   "execution_count": 6,
   "metadata": {},
   "outputs": [
    {
     "data": {
      "text/plain": [
       "[{'ABV': '16.90',\n",
       "  'Beer Name': 'Rumpkin',\n",
       "  'Beer Style': 'Pumpkin Ale',\n",
       "  'Brewery': 'Avery Brewing Company',\n",
       "  'User Rating': '4.74'},\n",
       " {'ABV': '11.50',\n",
       "  'Beer Name': 'Imperial Doughnut Break',\n",
       "  'Beer Style': 'American Porter',\n",
       "  'Brewery': 'Evil Twin Brewing',\n",
       "  'User Rating': '4.63'},\n",
       " {'ABV': '10.50',\n",
       "  'Beer Name': 'Founders Imperial Stout',\n",
       "  'Beer Style': 'Russian Imperial Stout',\n",
       "  'Brewery': 'Founders Brewing Company',\n",
       "  'User Rating': '4.6',\n",
       "  'image_link': 'https://cdn.beeradvocate.com/im/beers/21822.jpg'}]"
      ]
     },
     "execution_count": 6,
     "metadata": {},
     "output_type": "execute_result"
    }
   ],
   "source": [
    "top_3"
   ]
  },
  {
   "cell_type": "code",
   "execution_count": 8,
   "metadata": {},
   "outputs": [
    {
     "data": {
      "text/plain": [
       "['https://www.beeradvocate.com/beer/profile/30/62449/',\n",
       " 'https://www.beeradvocate.com/beer/profile/24300/90473/',\n",
       " 'https://www.beeradvocate.com/beer/profile/1199/21822/']"
      ]
     },
     "execution_count": 8,
     "metadata": {},
     "output_type": "execute_result"
    }
   ],
   "source": [
    "beer_links"
   ]
  },
  {
   "cell_type": "code",
   "execution_count": null,
   "metadata": {
    "collapsed": true
   },
   "outputs": [],
   "source": []
  }
 ],
 "metadata": {
  "kernelspec": {
   "display_name": "Python [conda env:PythonData]",
   "language": "python",
   "name": "conda-env-PythonData-py"
  },
  "language_info": {
   "codemirror_mode": {
    "name": "ipython",
    "version": 3
   },
   "file_extension": ".py",
   "mimetype": "text/x-python",
   "name": "python",
   "nbconvert_exporter": "python",
   "pygments_lexer": "ipython3",
   "version": "3.6.1"
  }
 },
 "nbformat": 4,
 "nbformat_minor": 2
}
